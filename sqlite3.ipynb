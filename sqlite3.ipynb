{
  "nbformat": 4,
  "nbformat_minor": 0,
  "metadata": {
    "colab": {
      "name": "Untitled10.ipynb",
      "provenance": []
    },
    "kernelspec": {
      "name": "python3",
      "display_name": "Python 3"
    },
    "language_info": {
      "name": "python"
    }
  },
  "cells": [
    {
      "cell_type": "code",
      "execution_count": 1,
      "metadata": {
        "colab": {
          "base_uri": "https://localhost:8080/"
        },
        "id": "x-sUwB6TGs-3",
        "outputId": "57b83868-82fa-4fd3-e766-d3fb3d8e707b"
      },
      "outputs": [
        {
          "output_type": "execute_result",
          "data": {
            "text/plain": [
              "<sqlite3.Cursor at 0x7f0ca2f39f80>"
            ]
          },
          "metadata": {},
          "execution_count": 1
        }
      ],
      "source": [
        "import sqlite3\n",
        "from sqlite3 import Error\n",
        "connection = sqlite3.connect('lib2')\n",
        "\n",
        "cursor = connection.cursor()\n",
        "cursor.execute(\n",
        "    '''\n",
        "    CREATE TABLE Book(\n",
        "        id INT PRIMARY KEY NOT NULL,\n",
        "        title TEXT,\n",
        "        author TEXT,\n",
        "        publish_year INT\n",
        "    )\n",
        "    '''\n",
        ")\n",
        "\n",
        "cursor.execute(\n",
        "    '''\n",
        "    INSERT INTO Book VALUES\n",
        "    (1, 'Фрида Кало', 'Хейден Эррера', 2011),\n",
        "    (2, 'Тонкое искусство пофигизма: Парадоксальный способ жить счастливо', 'Марк Мэнсон', 2016),\n",
        "    (3, 'The Thorn Birds', 'Colleen Margaretta', 1977)\n",
        "    '''\n",
        ")"
      ]
    },
    {
      "cell_type": "code",
      "source": [
        "cursor.execute(\n",
        "    '''\n",
        "    CREATE TABLE Reader(\n",
        "        id INT PRIMARY KEY NOT NULL,\n",
        "        name TEXT\n",
        "    )\n",
        "    '''\n",
        ")\n",
        "\n",
        "cursor.execute(\n",
        "    '''\n",
        "    INSERT INTO Reader VALUES\n",
        "    (1, 'Ernest'),\n",
        "    (2, 'Mark'),\n",
        "    (3, 'Charles')\n",
        "    '''\n",
        ")"
      ],
      "metadata": {
        "colab": {
          "base_uri": "https://localhost:8080/"
        },
        "id": "4DGAVJDVHAM9",
        "outputId": "2069142e-7488-4cd2-ee5a-c42960bdeac8"
      },
      "execution_count": 2,
      "outputs": [
        {
          "output_type": "execute_result",
          "data": {
            "text/plain": [
              "<sqlite3.Cursor at 0x7f0ca2f39f80>"
            ]
          },
          "metadata": {},
          "execution_count": 2
        }
      ]
    },
    {
      "cell_type": "code",
      "source": [
        "cursor.execute(\n",
        "    '''\n",
        "    CREATE TABLE Records(\n",
        "        id INT PRIMARY KEY NOT NULL,\n",
        "        reader_id INT REFERENCES Readers(id) NOT NULL,\n",
        "        book_id INT REFERENCES Books(id) NOT NULL,\n",
        "        taking_date TEXT,\n",
        "        returning_date TEXT\n",
        "    )\n",
        "    '''\n",
        ")\n",
        "\n",
        "cursor.execute(\n",
        "    '''\n",
        "    INSERT INTO Records VALUES\n",
        "    (1, 3, 4, '1913-02-16', '1915-05-05'),\n",
        "    (2, 4, 5, '1999-12-23', 'NULL'),\n",
        "    (3, 2, 5, '2006-12-11', '2007-05-11'),\n",
        "    (4, 2, 8, '2006-11-15', '2008-04-16'),\n",
        "    (5, 2, 4, '2006-05-16', '2007-08-21')\n",
        "    '''\n",
        ")"
      ],
      "metadata": {
        "colab": {
          "base_uri": "https://localhost:8080/"
        },
        "id": "poM5VSGNHK2g",
        "outputId": "5feeaa72-613f-495d-c3be-9562a90639bf"
      },
      "execution_count": 3,
      "outputs": [
        {
          "output_type": "execute_result",
          "data": {
            "text/plain": [
              "<sqlite3.Cursor at 0x7f0ca2f39f80>"
            ]
          },
          "metadata": {},
          "execution_count": 3
        }
      ]
    },
    {
      "cell_type": "code",
      "source": [
        "connection.commit()\n",
        "connection.close()"
      ],
      "metadata": {
        "id": "rOihsxptHP2f"
      },
      "execution_count": 4,
      "outputs": []
    },
    {
      "cell_type": "code",
      "source": [
        "def book():\n",
        "    connection = sqlite3.connect(\"lib2\")\n",
        "    with connection:\n",
        "        for row in connection.execute(\"SELECT title FROM Book\"):\n",
        "            print(row)\n",
        "            \n",
        "book()"
      ],
      "metadata": {
        "colab": {
          "base_uri": "https://localhost:8080/"
        },
        "id": "_0LRCwlLHWgq",
        "outputId": "6401ce8d-e23b-4cae-e1dc-653a5a59b77b"
      },
      "execution_count": 5,
      "outputs": [
        {
          "output_type": "stream",
          "name": "stdout",
          "text": [
            "('Фрида Кало',)\n",
            "('Тонкое искусство пофигизма: Парадоксальный способ жить счастливо',)\n",
            "('The Thorn Birds',)\n"
          ]
        }
      ]
    },
    {
      "cell_type": "code",
      "source": [
        "def reader():\n",
        "    connection = sqlite3.connect(\"lib2\")\n",
        "    with connection:\n",
        "        for row in connection.execute(\"SELECT name FROM Reader\"):\n",
        "            print(row)\n",
        "\n",
        "reader()"
      ],
      "metadata": {
        "colab": {
          "base_uri": "https://localhost:8080/"
        },
        "id": "6QpD5vu_Hflv",
        "outputId": "ba1524bd-3bf9-437a-9b8c-b2630736ee70"
      },
      "execution_count": 6,
      "outputs": [
        {
          "output_type": "stream",
          "name": "stdout",
          "text": [
            "('Ernest',)\n",
            "('Mark',)\n",
            "('Charles',)\n"
          ]
        }
      ]
    },
    {
      "cell_type": "code",
      "source": [
        "def add_book(book_info):\n",
        "    connection = sqlite3.connect(\"lib2\")\n",
        "    with connection:\n",
        "        connection.execute(\"INSERT OR IGNORE INTO Book VALUES(?, ?, ?, ?)\", book_info)\n",
        "        connection.commit()\n",
        "\n",
        "add_book((4, 'Психология влияния', 'Роберт Чалдини', 1984))"
      ],
      "metadata": {
        "id": "OmUgP2DdHiPC"
      },
      "execution_count": 7,
      "outputs": []
    },
    {
      "cell_type": "markdown",
      "source": [
        "проверим теперь список книг"
      ],
      "metadata": {
        "id": "iZNEMyRkHsf-"
      }
    },
    {
      "cell_type": "code",
      "source": [
        "book()"
      ],
      "metadata": {
        "colab": {
          "base_uri": "https://localhost:8080/"
        },
        "id": "if2EwiQtHonK",
        "outputId": "1a7ac8b9-e9f9-455a-dbdc-67942d233e80"
      },
      "execution_count": 8,
      "outputs": [
        {
          "output_type": "stream",
          "name": "stdout",
          "text": [
            "('Фрида Кало',)\n",
            "('Тонкое искусство пофигизма: Парадоксальный способ жить счастливо',)\n",
            "('The Thorn Birds',)\n",
            "('Психология влияния',)\n"
          ]
        }
      ]
    },
    {
      "cell_type": "markdown",
      "source": [
        "ура, появилась новая книга"
      ],
      "metadata": {
        "id": "Qei-8WizHzxl"
      }
    },
    {
      "cell_type": "markdown",
      "source": [
        "книги The Thorn \"Birds\" и \"Фрида Кало\" унес читатель и исчез вместе с книгой, спишем книгу"
      ],
      "metadata": {
        "id": "UEuzY_iCH3SB"
      }
    },
    {
      "cell_type": "code",
      "source": [
        "def delete_book(title):\n",
        "    connection = sqlite3.connect(\"lib2\")\n",
        "    with connection:\n",
        "        connection.execute(\"DELETE FROM Book WHERE title=?\", (title,))\n",
        "        connection.commit()\n",
        "\n",
        "delete_book('The Thorn Birds')\n",
        "delete_book('Фрида Кало')"
      ],
      "metadata": {
        "id": "RPjRV-2QIEHU"
      },
      "execution_count": 9,
      "outputs": []
    },
    {
      "cell_type": "markdown",
      "source": [
        "проверим"
      ],
      "metadata": {
        "id": "-6mCw2erIPDT"
      }
    },
    {
      "cell_type": "code",
      "source": [
        "book()"
      ],
      "metadata": {
        "colab": {
          "base_uri": "https://localhost:8080/"
        },
        "id": "YguEvdwKITKF",
        "outputId": "444e27e7-5bf7-4d9f-8370-89f059f3a56d"
      },
      "execution_count": 10,
      "outputs": [
        {
          "output_type": "stream",
          "name": "stdout",
          "text": [
            "('Тонкое искусство пофигизма: Парадоксальный способ жить счастливо',)\n",
            "('Психология влияния',)\n"
          ]
        }
      ]
    },
    {
      "cell_type": "code",
      "source": [
        "def add_reader(reader_info):\n",
        "    connection = sqlite3.connect(\"lib2\")\n",
        "    with connection:\n",
        "        connection.execute(\"INSERT OR IGNORE INTO Reader VALUES(?, ?)\", reader_info)\n",
        "        connection.commit()\n",
        "\n",
        "add_reader((4, 'Nastya'))"
      ],
      "metadata": {
        "id": "LpXTzEuZIep1"
      },
      "execution_count": 11,
      "outputs": []
    },
    {
      "cell_type": "code",
      "source": [
        "reader()"
      ],
      "metadata": {
        "colab": {
          "base_uri": "https://localhost:8080/"
        },
        "id": "Jb6w0X76Ih41",
        "outputId": "b009d7c6-5804-4ed4-de2f-0a85a0f77034"
      },
      "execution_count": 12,
      "outputs": [
        {
          "output_type": "stream",
          "name": "stdout",
          "text": [
            "('Ernest',)\n",
            "('Mark',)\n",
            "('Charles',)\n",
            "('Nastya',)\n"
          ]
        }
      ]
    },
    {
      "cell_type": "code",
      "source": [
        "def record_selecter():\n",
        "    connection = sqlite3.connect(\"lib2\")\n",
        "    with connection:\n",
        "        for row in connection.execute(\"SELECT * FROM Records\"):\n",
        "            print(row)\n",
        "            \n",
        "record_selecter()"
      ],
      "metadata": {
        "colab": {
          "base_uri": "https://localhost:8080/"
        },
        "id": "77jIiCDGIu7_",
        "outputId": "ed1ebf46-390a-4c2b-ade5-0278a72b847b"
      },
      "execution_count": 13,
      "outputs": [
        {
          "output_type": "stream",
          "name": "stdout",
          "text": [
            "(1, 3, 4, '1913-02-16', '1915-05-05')\n",
            "(2, 4, 5, '1999-12-23', 'NULL')\n",
            "(3, 2, 5, '2006-12-11', '2007-05-11')\n",
            "(4, 2, 8, '2006-11-15', '2008-04-16')\n",
            "(5, 2, 4, '2006-05-16', '2007-08-21')\n"
          ]
        }
      ]
    },
    {
      "cell_type": "code",
      "source": [
        "def lend_book(record_info):\n",
        "    connection = sqlite3.connect(\"lib2\")\n",
        "    with connection:\n",
        "        connection.execute(\"INSERT OR IGNORE INTO Records VALUES(?, ?, ?, ?, ?)\", record_info)\n",
        "        connection.commit()\n",
        "        \n",
        "lend_book((7, 5, 6, '2022-03-31', '2022-04-07'))"
      ],
      "metadata": {
        "id": "YWdT1aofKfi_"
      },
      "execution_count": 14,
      "outputs": []
    },
    {
      "cell_type": "code",
      "source": [
        "record_selecter()"
      ],
      "metadata": {
        "colab": {
          "base_uri": "https://localhost:8080/"
        },
        "id": "313-5jnNLUGV",
        "outputId": "26a24347-51a4-4e6e-d3b9-0181a6a05975"
      },
      "execution_count": 15,
      "outputs": [
        {
          "output_type": "stream",
          "name": "stdout",
          "text": [
            "(1, 3, 4, '1913-02-16', '1915-05-05')\n",
            "(2, 4, 5, '1999-12-23', 'NULL')\n",
            "(3, 2, 5, '2006-12-11', '2007-05-11')\n",
            "(4, 2, 8, '2006-11-15', '2008-04-16')\n",
            "(5, 2, 4, '2006-05-16', '2007-08-21')\n",
            "(7, 5, 6, '2022-03-31', '2022-04-07')\n"
          ]
        }
      ]
    },
    {
      "cell_type": "code",
      "source": [
        "def accept_record(record_info):\n",
        "    connection = sqlite3.connect(\"lib2\")\n",
        "    with connection:\n",
        "        connection.execute(\"INSERT OR IGNORE INTO Records VALUES(?, ?, ?, ?, ?)\", record_info)\n",
        "        connection.commit()\n",
        "        \n",
        "accept_record((7, 6, 6, '2022-03-31', 'NULL'))"
      ],
      "metadata": {
        "id": "L18jvmvYLWqs"
      },
      "execution_count": 16,
      "outputs": []
    },
    {
      "cell_type": "code",
      "source": [
        "record_selecter()"
      ],
      "metadata": {
        "colab": {
          "base_uri": "https://localhost:8080/"
        },
        "id": "vtfdizomLoSg",
        "outputId": "9931488f-21bd-498a-b058-5ce7459916fe"
      },
      "execution_count": 17,
      "outputs": [
        {
          "output_type": "stream",
          "name": "stdout",
          "text": [
            "(1, 3, 4, '1913-02-16', '1915-05-05')\n",
            "(2, 4, 5, '1999-12-23', 'NULL')\n",
            "(3, 2, 5, '2006-12-11', '2007-05-11')\n",
            "(4, 2, 8, '2006-11-15', '2008-04-16')\n",
            "(5, 2, 4, '2006-05-16', '2007-08-21')\n",
            "(7, 5, 6, '2022-03-31', '2022-04-07')\n"
          ]
        }
      ]
    }
  ]
}