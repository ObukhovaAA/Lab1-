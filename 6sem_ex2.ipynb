{
  "nbformat": 4,
  "nbformat_minor": 0,
  "metadata": {
    "colab": {
      "name": "Копия блокнота \"Untitled5.ipynb\"",
      "provenance": [],
      "collapsed_sections": [],
      "toc_visible": true
    },
    "kernelspec": {
      "name": "python3",
      "display_name": "Python 3"
    },
    "language_info": {
      "name": "python"
    }
  },
  "cells": [
    {
      "cell_type": "markdown",
      "source": [
        "# Задача №1 ✈ :\n",
        "*Вам на вход приходит большая матрица из целых чисел. Логически это карта. Каждый элемент матрицы - клеточка карты. Значение элемента - высота над уровнем моря в данной клеточке (если число положительное) или глубина моря (если число отрицательное). Размеры карты - до 1024 по каждой из сторон.\n",
        "Необходимо найти:общую площадь клеточек моря, в которых его глубина больше 5; общий объём всей воды на карте; максимальную высоту над уровнем моря, которая есть на этой карте.*"
      ],
      "metadata": {
        "id": "4PJCQm5Yf7oy"
      }
    },
    {
      "cell_type": "code",
      "source": [
        "import numpy as np\n",
        "import pandas as pd\n",
        "\n",
        "N, M = map(int, (input().split()))\n",
        "map_data = [np.array(((input().split())), dtype = int) for _ in range(N)]\n",
        "df = pd.DataFrame(map_data)\n",
        "\n",
        "print(((df<-5).astype(int)).values.sum())\n",
        "print(-int(df[df<0].fillna(0).values.sum()))\n",
        "print(df.values.max())"
      ],
      "metadata": {
        "colab": {
          "base_uri": "https://localhost:8080/"
        },
        "id": "wjrADMrBlZ2P",
        "outputId": "adc011c6-4d71-47ea-c030-798cc0e1468c"
      },
      "execution_count": null,
      "outputs": [
        {
          "output_type": "stream",
          "name": "stdout",
          "text": [
            "4 6\n",
            "1  4  4  2  1  1\n",
            "0  0  1  0 -1 -1\n",
            "-2 -3 -1 -5 -6 -4\n",
            "-1 -3 -3 -4 -4 -2\n",
            "1\n",
            "40\n",
            "4\n"
          ]
        }
      ]
    },
    {
      "cell_type": "markdown",
      "source": [
        "# Задача №2 ✈ :\n",
        "*Реализуйте странную нейросеть. Нейросеть должна:\n",
        "принимать на вход вектор признаков (чисел с плавающей точкой);\n",
        "в качестве первого преобразования умножать вектор признаков на матрицу весов A2 (на выходе получается новый вектор);\n",
        "в качестве второго преобразования умножать вектор, полученный на прошлом шаге, на вектор весов b (на выходе получается скалярное число).\n",
        "Размерности матриц и векторов - в пределах 1024.*"
      ],
      "metadata": {
        "id": "yL5GswBLpkDk"
      }
    },
    {
      "cell_type": "code",
      "source": [
        "import numpy as np\n",
        "import pandas as pd\n",
        "\n",
        "string_mat = input()\n",
        "string_col = input()\n",
        "X = input()\n",
        "with open(string_mat) as A, open(string_col) as b:\n",
        "    matrix_A = np.array([np.array((line.split()), dtype = float) for line in A])\n",
        "    column_b = np.array([np.array((line.split()), dtype = float) for line in b]).T\n",
        "    matrix_A2 = matrix_A @ matrix_A\n",
        "    vector_X = np.array([np.array((X.split()), dtype = float)])\n",
        "    print(round((vector_X @ matrix_A2 @ column_b)[0][0], 17))"
      ],
      "metadata": {
        "colab": {
          "base_uri": "https://localhost:8080/"
        },
        "id": "sS7yXr90m_RM",
        "outputId": "c21e9dcc-2f54-4ccb-bd3a-3797d9b03bd0"
      },
      "execution_count": null,
      "outputs": [
        {
          "output_type": "stream",
          "name": "stdout",
          "text": [
            "/content/A.txt\n",
            "/content/b.txt\n",
            "0.5 0.1 0.5\n",
            "0.0275\n"
          ]
        }
      ]
    },
    {
      "cell_type": "markdown",
      "source": [
        "# Задача №3 ✈ :\n",
        "*У вас есть данные по разным играм и тому, как их оценивают пользователи. По каждой игре известны название и студия-разработчик. Для каждой игры есть какое-то количество оценок (для разных игр оно разное). Требуется: найти 3 игры с самой высокой средней оценкой, вывести их названия и средние оценки в порядке убывания средней оценки;\n",
        "найти студию-разработчика, у которой максимальное количество игр с рейтингом выше 8.0, вывести название студии и количество таких игр у неё.*\n"
      ],
      "metadata": {
        "id": "8wmdJGQQf6WU"
      }
    },
    {
      "cell_type": "code",
      "source": [
        "games = pd.read_csv('/content/games001.csv', sep=';')\n",
        "rates =  pd.read_csv('/content/rates001.csv', sep=';')\n",
        "\n",
        "df = games.copy() \n",
        "\n",
        "df['mean'] = [round(rates[(rates['id'] == id)]['mark'].mean(), 3) for id in df['id']]\n",
        "\n",
        "df_1 = df.sort_values(by ='mean', ascending=False).iloc[0:3][['name', 'mean']].to_string(index=False)\n",
        "print(df_1)\n",
        "\n",
        "df_2 = df[df['mean'] > 8.0]['company'].value_counts().head(1)\n",
        "print(df_2)"
      ],
      "metadata": {
        "colab": {
          "base_uri": "https://localhost:8080/"
        },
        "id": "D8TiaXc8j_3M",
        "outputId": "faf969c5-1ef1-4513-ffc6-b4b2703cad9b"
      },
      "execution_count": null,
      "outputs": [
        {
          "output_type": "stream",
          "name": "stdout",
          "text": [
            "           name  mean\n",
            "Darkest Dungeon 9.000\n",
            "         XCOM 2 8.867\n",
            " Civilization V 8.333\n",
            "Firaxis    2\n",
            "Name: company, dtype: int64\n"
          ]
        }
      ]
    }
  ]
}